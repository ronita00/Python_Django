{
  "nbformat": 4,
  "nbformat_minor": 0,
  "metadata": {
    "colab": {
      "provenance": [],
      "authorship_tag": "ABX9TyMTGCPT6AiIM8Aejl7iWLzz",
      "include_colab_link": true
    },
    "kernelspec": {
      "name": "python3",
      "display_name": "Python 3"
    },
    "language_info": {
      "name": "python"
    }
  },
  "cells": [
    {
      "cell_type": "markdown",
      "metadata": {
        "id": "view-in-github",
        "colab_type": "text"
      },
      "source": [
        "<a href=\"https://colab.research.google.com/github/ronita00/Python_Django/blob/main/SVM_using_scikit_learning.ipynb\" target=\"_parent\"><img src=\"https://colab.research.google.com/assets/colab-badge.svg\" alt=\"Open In Colab\"/></a>"
      ]
    },
    {
      "cell_type": "code",
      "execution_count": 2,
      "metadata": {
        "colab": {
          "base_uri": "https://localhost:8080/"
        },
        "id": "hr0k2ilrqZ05",
        "outputId": "78854c7c-84bb-4fdf-d14b-4a5f0fd04c75"
      },
      "outputs": [
        {
          "output_type": "stream",
          "name": "stdout",
          "text": [
            "Accuracy: 0.9667\n",
            "Classification Report:\n",
            "              precision    recall  f1-score   support\n",
            "\n",
            "      Setosa       1.00      1.00      1.00        10\n",
            "  Versicolor       1.00      0.89      0.94         9\n",
            "   Virginica       0.92      1.00      0.96        11\n",
            "\n",
            "    accuracy                           0.97        30\n",
            "   macro avg       0.97      0.96      0.97        30\n",
            "weighted avg       0.97      0.97      0.97        30\n",
            "\n"
          ]
        }
      ],
      "source": [
        "import pandas as pd\n",
        "from sklearn.model_selection import train_test_split\n",
        "from sklearn.svm import SVC\n",
        "from sklearn.metrics import classification_report, accuracy_score\n",
        "import pickle\n",
        "from sklearn.preprocessing import StandardScaler\n",
        "\n",
        "# Load the iris dataset\n",
        "dataset = pd.read_csv('iris1.csv')\n",
        "\n",
        "# Define features and target variable\n",
        "X = dataset.iloc[:, :-1]  # Features (all columns except the last)\n",
        "y = dataset.iloc[:, -1]   # Target variable (last column)\n",
        "\n",
        "# Split the dataset into training and test sets (80% train, 20% test)\n",
        "X_train, X_test, y_train, y_test = train_test_split(X, y, test_size=0.2, random_state=42)\n",
        "\n",
        "# Scale or normalize input data\n",
        "scaler = StandardScaler()\n",
        "X_train = scaler.fit_transform(X_train)\n",
        "X_test = scaler.transform(X_test)\n",
        "\n",
        "# Initialize the SVM classifier with a linear kernel\n",
        "clf = SVC(kernel='linear', random_state=42)\n",
        "\n",
        "# Train the classifier\n",
        "clf.fit(X_train, y_train)\n",
        "\n",
        "# Predict on the test set\n",
        "y_pred = clf.predict(X_test)\n",
        "\n",
        "# Evaluate the model\n",
        "accuracy = accuracy_score(y_test, y_pred)\n",
        "print(f\"Accuracy: {accuracy:.4f}\")\n",
        "print(\"Classification Report:\")\n",
        "print(classification_report(y_test, y_pred))\n",
        "\n",
        "# Save the model and scaler using pickle\n",
        "pickle.dump(clf, open(\"svm_model.sav\", \"wb\"))\n",
        "pickle.dump(scaler, open(\"scaler_model.sav\", \"wb\"))\n"
      ]
    },
    {
      "cell_type": "code",
      "source": [
        "# Load the saved model and scaler\n",
        "loaded_model = pickle.load(open(\"svm_model.sav\", \"rb\"))\n",
        "loaded_scaler = pickle.load(open(\"scaler_model.sav\", \"rb\"))\n",
        "\n",
        "# Make predictions with the loaded model\n",
        "X_test_scaled = loaded_scaler.transform(X_test)\n",
        "y_pred_loaded = loaded_model.predict(X_test_scaled)\n",
        "\n",
        "# Evaluate the loaded model\n",
        "print(f\"Accuracy (Loaded Model): {accuracy_score(y_test, y_pred_loaded):.4f}\")\n"
      ],
      "metadata": {
        "colab": {
          "base_uri": "https://localhost:8080/"
        },
        "id": "HTu9K-Y-rEX-",
        "outputId": "9d4dc742-58b3-4969-863a-efade1b6bb0e"
      },
      "execution_count": 3,
      "outputs": [
        {
          "output_type": "stream",
          "name": "stdout",
          "text": [
            "Accuracy (Loaded Model): 0.6000\n"
          ]
        },
        {
          "output_type": "stream",
          "name": "stderr",
          "text": [
            "/usr/local/lib/python3.10/dist-packages/sklearn/base.py:493: UserWarning: X does not have valid feature names, but StandardScaler was fitted with feature names\n",
            "  warnings.warn(\n"
          ]
        }
      ]
    }
  ]
}