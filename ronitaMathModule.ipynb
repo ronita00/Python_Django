{
  "nbformat": 4,
  "nbformat_minor": 0,
  "metadata": {
    "colab": {
      "provenance": [],
      "authorship_tag": "ABX9TyMaIBmBTP5WcouDq+FcS7gi",
      "include_colab_link": true
    },
    "kernelspec": {
      "name": "python3",
      "display_name": "Python 3"
    },
    "language_info": {
      "name": "python"
    }
  },
  "cells": [
    {
      "cell_type": "markdown",
      "metadata": {
        "id": "view-in-github",
        "colab_type": "text"
      },
      "source": [
        "<a href=\"https://colab.research.google.com/github/ronita00/Python_Django/blob/main/ronitaMathModule.ipynb\" target=\"_parent\"><img src=\"https://colab.research.google.com/assets/colab-badge.svg\" alt=\"Open In Colab\"/></a>"
      ]
    },
    {
      "cell_type": "code",
      "source": [
        "from mpmath import mp\n",
        "\n",
        "# Set precision to 50 decimal places (adjust as needed)\n",
        "noOfDigits=(input(\"Enter the number of digits: \"))\n",
        "mp.dps = noOfDigits\n",
        "pi_value = mp.pi\n",
        "\n",
        "print(f\"Value of π : {pi_value}\")\n"
      ],
      "metadata": {
        "id": "Cbsyi9d2WjA2"
      },
      "execution_count": null,
      "outputs": []
    }
  ]
}