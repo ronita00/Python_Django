{
  "nbformat": 4,
  "nbformat_minor": 0,
  "metadata": {
    "colab": {
      "provenance": [],
      "authorship_tag": "ABX9TyNbYtVzfSfJeZAs+VAAI/UL",
      "include_colab_link": true
    },
    "kernelspec": {
      "name": "python3",
      "display_name": "Python 3"
    },
    "language_info": {
      "name": "python"
    }
  },
  "cells": [
    {
      "cell_type": "markdown",
      "metadata": {
        "id": "view-in-github",
        "colab_type": "text"
      },
      "source": [
        "<a href=\"https://colab.research.google.com/github/ronita00/Python_Django/blob/main/ronitaMathModule.ipynb\" target=\"_parent\"><img src=\"https://colab.research.google.com/assets/colab-badge.svg\" alt=\"Open In Colab\"/></a>"
      ]
    },
    {
      "cell_type": "code",
      "source": [
        "from mpmath import mp\n",
        "\n",
        "# Set precision to 50 decimal places (adjust as needed)\n",
        "noOfDigits=(input(\"Enter the number of digits: \"))\n",
        "mp.dps = noOfDigits\n",
        "pi_value = mp.pi\n",
        "\n",
        "print(f\"Value of π with 50 decimal places: {pi_value}\")\n"
      ],
      "metadata": {
        "id": "Cbsyi9d2WjA2",
        "colab": {
          "base_uri": "https://localhost:8080/"
        },
        "outputId": "62f32926-5730-482f-9edc-b70fe1e3963d"
      },
      "execution_count": 2,
      "outputs": [
        {
          "output_type": "stream",
          "name": "stdout",
          "text": [
            "Enter the number of digits: 1000\n",
            "Value of π with 50 decimal places: 3.141592653589793238462643383279502884197169399375105820974944592307816406286208998628034825342117067982148086513282306647093844609550582231725359408128481117450284102701938521105559644622948954930381964428810975665933446128475648233786783165271201909145648566923460348610454326648213393607260249141273724587006606315588174881520920962829254091715364367892590360011330530548820466521384146951941511609433057270365759591953092186117381932611793105118548074462379962749567351885752724891227938183011949129833673362440656643086021394946395224737190702179860943702770539217176293176752384674818467669405132000568127145263560827785771342757789609173637178721468440901224953430146549585371050792279689258923542019956112129021960864034418159813629774771309960518707211349999998372978049951059731732816096318595024459455346908302642522308253344685035261931188171010003137838752886587533208381420617177669147303598253490428755468731159562863882353787593751957781857780532171226806613001927876611195909216420199\n"
          ]
        }
      ]
    }
  ]
}