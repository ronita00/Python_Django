{
  "nbformat": 4,
  "nbformat_minor": 0,
  "metadata": {
    "colab": {
      "provenance": [],
      "authorship_tag": "ABX9TyOAFd+FpWgjgixaCM0RVXMR",
      "include_colab_link": true
    },
    "kernelspec": {
      "name": "python3",
      "display_name": "Python 3"
    },
    "language_info": {
      "name": "python"
    }
  },
  "cells": [
    {
      "cell_type": "markdown",
      "metadata": {
        "id": "view-in-github",
        "colab_type": "text"
      },
      "source": [
        "<a href=\"https://colab.research.google.com/github/ronita00/Python_Django/blob/main/ronitaMathModule.ipynb\" target=\"_parent\"><img src=\"https://colab.research.google.com/assets/colab-badge.svg\" alt=\"Open In Colab\"/></a>"
      ]
    },
    {
      "cell_type": "code",
      "source": [
        "import math\n",
        "Input=int(input(\"Enter the number: \"))\n",
        "print(math.factorial(Input))"
      ],
      "metadata": {
        "colab": {
          "base_uri": "https://localhost:8080/"
        },
        "id": "Wb7wnU46Bp_r",
        "outputId": "a10ca772-8154-4f0f-a931-fa537fc4f25f"
      },
      "execution_count": 5,
      "outputs": [
        {
          "output_type": "stream",
          "name": "stdout",
          "text": [
            "Enter the number: 13\n",
            "6227020800\n"
          ]
        }
      ]
    },
    {
      "cell_type": "code",
      "source": [
        "import math\n",
        "a=45\n",
        "b=25\n",
        "print(math.hypot(a,b))"
      ],
      "metadata": {
        "colab": {
          "base_uri": "https://localhost:8080/"
        },
        "id": "wjc43cKfBjhS",
        "outputId": "b924979b-71d6-4922-a18b-7f8b1c31b21d"
      },
      "execution_count": 6,
      "outputs": [
        {
          "output_type": "stream",
          "name": "stdout",
          "text": [
            "51.478150704935004\n"
          ]
        }
      ]
    },
    {
      "cell_type": "code",
      "source": [
        "import math\n",
        "a=45\n",
        "b=25\n",
        "print(\"GCD of a and b is:\")\n",
        "print(math.gcd(a,b))"
      ],
      "metadata": {
        "colab": {
          "base_uri": "https://localhost:8080/"
        },
        "id": "Oo89V_C0CoYS",
        "outputId": "512e37fd-45f6-477c-9ccf-a30f705cbca2"
      },
      "execution_count": 7,
      "outputs": [
        {
          "output_type": "stream",
          "name": "stdout",
          "text": [
            "GCD of a and b is:\n",
            "5\n"
          ]
        }
      ]
    },
    {
      "cell_type": "code",
      "source": [
        "import math\n",
        "print(math.sqrt(34))"
      ],
      "metadata": {
        "colab": {
          "base_uri": "https://localhost:8080/"
        },
        "id": "3YieWuUDC7t2",
        "outputId": "2e5ce36f-c3de-4df8-d8a2-a1e2561fdee0"
      },
      "execution_count": 8,
      "outputs": [
        {
          "output_type": "stream",
          "name": "stdout",
          "text": [
            "5.830951894845301\n"
          ]
        }
      ]
    },
    {
      "cell_type": "code",
      "source": [
        "#logarithomic value\n",
        "import math\n",
        "Input=int(input(\"Enter the number: \"))\n",
        "print(math.log(Input))"
      ],
      "metadata": {
        "colab": {
          "base_uri": "https://localhost:8080/"
        },
        "id": "w3teshHDDIb3",
        "outputId": "f8319872-f079-4eeb-d52a-0895e612f5d9"
      },
      "execution_count": 10,
      "outputs": [
        {
          "output_type": "stream",
          "name": "stdout",
          "text": [
            "Enter the number: 4\n",
            "1.3862943611198906\n"
          ]
        }
      ]
    },
    {
      "cell_type": "code",
      "source": [
        "#Degree to radian\n",
        "import math\n",
        "Input=int(input(\"Enter the number: \"))\n",
        "print(\"output in Radians:\",math.radians(Input))\n",
        "print(\"Output in degree:\",math.degrees(Input))"
      ],
      "metadata": {
        "colab": {
          "base_uri": "https://localhost:8080/"
        },
        "id": "HEBXmh_SDjla",
        "outputId": "e23bfe20-eff2-4a8a-ebfc-5746bd3f1aba"
      },
      "execution_count": 14,
      "outputs": [
        {
          "output_type": "stream",
          "name": "stdout",
          "text": [
            "Enter the number: 56\n",
            "output in Radians: 0.9773843811168246\n",
            "Output in degree: 3208.56365273261\n"
          ]
        }
      ]
    },
    {
      "cell_type": "code",
      "source": [
        "#calculating pi value using math module\n",
        "from mpmath import mp\n",
        "\n",
        "# Set precision to 50 decimal places (adjust as needed)\n",
        "noOfDigits=(input(\"Enter the number of digits: \"))\n",
        "mp.dps = noOfDigits\n",
        "pi_value = mp.pi\n",
        "\n",
        "print(f\"Value of π : {pi_value}\")"
      ],
      "metadata": {
        "id": "edXX_p35A_G0"
      },
      "execution_count": null,
      "outputs": []
    }
  ]
}