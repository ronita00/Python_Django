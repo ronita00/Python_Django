{
  "nbformat": 4,
  "nbformat_minor": 0,
  "metadata": {
    "colab": {
      "provenance": [],
      "authorship_tag": "ABX9TyNaBlG/03gGE58AfyrfavyG",
      "include_colab_link": true
    },
    "kernelspec": {
      "name": "python3",
      "display_name": "Python 3"
    },
    "language_info": {
      "name": "python"
    }
  },
  "cells": [
    {
      "cell_type": "markdown",
      "metadata": {
        "id": "view-in-github",
        "colab_type": "text"
      },
      "source": [
        "<a href=\"https://colab.research.google.com/github/ronita00/Python_Django/blob/main/PI_.ipynb\" target=\"_parent\"><img src=\"https://colab.research.google.com/assets/colab-badge.svg\" alt=\"Open In Colab\"/></a>"
      ]
    },
    {
      "cell_type": "code",
      "source": [
        "import sys\n",
        "!wget https://raw.githubusercontent.com/ronita00/Python_Django/refs/heads/main/piModul.py\n",
        "sys.path.append('/content')\n",
        "import piModul as pm\n",
        "digits=int(input(\"Enter the number of digits: \"))\n",
        "print(pm.print_pi_to_n_digits(digits))"
      ],
      "metadata": {
        "colab": {
          "base_uri": "https://localhost:8080/"
        },
        "id": "5oHHB5Ro3ckw",
        "outputId": "32f0403d-9404-4111-a6bd-24f3f9885c8d"
      },
      "execution_count": null,
      "outputs": [
        {
          "output_type": "stream",
          "name": "stdout",
          "text": [
            "--2024-11-14 08:53:46--  https://raw.githubusercontent.com/ronita00/Python_Django/refs/heads/main/piModul.py\n",
            "Resolving raw.githubusercontent.com (raw.githubusercontent.com)... 185.199.108.133, 185.199.109.133, 185.199.110.133, ...\n",
            "Connecting to raw.githubusercontent.com (raw.githubusercontent.com)|185.199.108.133|:443... connected.\n",
            "HTTP request sent, awaiting response... 200 OK\n",
            "Length: 378 [text/plain]\n",
            "Saving to: ‘piModul.py.2’\n",
            "\n",
            "\rpiModul.py.2          0%[                    ]       0  --.-KB/s               \rpiModul.py.2        100%[===================>]     378  --.-KB/s    in 0s      \n",
            "\n",
            "2024-11-14 08:53:46 (5.41 MB/s) - ‘piModul.py.2’ saved [378/378]\n",
            "\n",
            "Enter the number of digits: 1000\n",
            "3.1415926535897932384626433832795028841971693993751058209749445923078164062862089986280348253421170679821480865132823066470938446095505822317253594081284811174502841027019385211055596446229489549303819644288109756659334461284756482337867831652712019091456485669234603486104543266482133936072602491412737245870066063155881748815209209628292540917153643678925903600113305305488204665213841469519415116094330572703657595919530921861173819326117931051185480744623799627495673518857527248912279381830119491298336733624406566430860213949463952247371907021798609437027705392171762931767523846748184676694051320005681271452635608277857713427577896091736371787214684409012249534301465495853710507922796892589235420199561121290219608640344181598136297747713099605187072113499999983729780499510597317328160963185950244594553469083026425223082533446850352619311881710100031378387528865875332083814206171776691473035982534904287554687311595628638823537875937519577818577805321712268066130019278766111959092164201989\n"
          ]
        }
      ]
    },
    {
      "cell_type": "code",
      "source": [
        "from mpmath import mp\n",
        "Digit=int(input(\"Enter the number of digits: \"))\n",
        "# mp.dps = Digit\n",
        "# print(mp.pi)\n",
        "def print_pi_to_n_digits(Digit):\n",
        "\n",
        "    # Set precision to n decimal places\n",
        "\n",
        "    mp.dps = Digit + 1  # Adding 1 to account for the \"3.\" before the decimals\n",
        "\n",
        "    # Return pi to n decimal places as a string\n",
        "\n",
        "    return str(mp.pi)\n",
        "\n",
        "print(print_pi_to_n_digits(Digit))\n"
      ],
      "metadata": {
        "id": "GqwyZVdiDtaw",
        "colab": {
          "base_uri": "https://localhost:8080/"
        },
        "outputId": "42646515-12a6-40d0-bf00-036a51016337"
      },
      "execution_count": null,
      "outputs": [
        {
          "output_type": "stream",
          "name": "stdout",
          "text": [
            "Enter the number of digits: 1000\n",
            "3.1415926535897932384626433832795028841971693993751058209749445923078164062862089986280348253421170679821480865132823066470938446095505822317253594081284811174502841027019385211055596446229489549303819644288109756659334461284756482337867831652712019091456485669234603486104543266482133936072602491412737245870066063155881748815209209628292540917153643678925903600113305305488204665213841469519415116094330572703657595919530921861173819326117931051185480744623799627495673518857527248912279381830119491298336733624406566430860213949463952247371907021798609437027705392171762931767523846748184676694051320005681271452635608277857713427577896091736371787214684409012249534301465495853710507922796892589235420199561121290219608640344181598136297747713099605187072113499999983729780499510597317328160963185950244594553469083026425223082533446850352619311881710100031378387528865875332083814206171776691473035982534904287554687311595628638823537875937519577818577805321712268066130019278766111959092164201989\n"
          ]
        }
      ]
    }
  ]
}