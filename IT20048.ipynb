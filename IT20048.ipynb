{
  "nbformat": 4,
  "nbformat_minor": 0,
  "metadata": {
    "colab": {
      "provenance": [],
      "authorship_tag": "ABX9TyNZynJpY0WKFBpmLjH4fk5K",
      "include_colab_link": true
    },
    "kernelspec": {
      "name": "python3",
      "display_name": "Python 3"
    },
    "language_info": {
      "name": "python"
    }
  },
  "cells": [
    {
      "cell_type": "markdown",
      "metadata": {
        "id": "view-in-github",
        "colab_type": "text"
      },
      "source": [
        "<a href=\"https://colab.research.google.com/github/ronita00/Python_Django/blob/main/IT20048.ipynb\" target=\"_parent\"><img src=\"https://colab.research.google.com/assets/colab-badge.svg\" alt=\"Open In Colab\"/></a>"
      ]
    },
    {
      "cell_type": "code",
      "execution_count": null,
      "metadata": {
        "colab": {
          "base_uri": "https://localhost:8080/"
        },
        "id": "iJdKZIvgwDTB",
        "outputId": "8aaa86fb-159c-49ab-d6e0-c5297d38dbba",
        "collapsed": true
      },
      "outputs": [
        {
          "output_type": "stream",
          "name": "stdout",
          "text": [
            "enter on of Dept of f_engg:4\n",
            "enter on of Dept of f_ls:5\n",
            "enter on of Others department:9\n",
            "Total department of MBSTU: 18\n"
          ]
        }
      ],
      "source": [
        "\n",
        "\n",
        "\n"
      ]
    },
    {
      "cell_type": "code",
      "source": [
        "def series():\n",
        "    n = int(input(\"Input a number: \"))\n",
        "    sum_num = (n * (n + 1)) / 2\n",
        "    return sum_num\n",
        "print(\"sum of numbers:\", series())"
      ],
      "metadata": {
        "id": "kE_KszRr_uju",
        "outputId": "ab48dfb1-5ec1-46e8-bcc9-8d2c7b37e460",
        "colab": {
          "base_uri": "https://localhost:8080/"
        }
      },
      "execution_count": null,
      "outputs": [
        {
          "output_type": "stream",
          "name": "stdout",
          "text": [
            "Input a number: 5\n",
            "sum of numbers: 15.0\n"
          ]
        }
      ]
    },
    {
      "cell_type": "code",
      "source": [
        "import numpy as np\n",
        "test= np.array([1,2,3])\n",
        "for i in test:\n",
        "  print (str(i)+\"\\n\")\n"
      ],
      "metadata": {
        "colab": {
          "base_uri": "https://localhost:8080/"
        },
        "collapsed": true,
        "id": "AqcZcP9mtcoG",
        "outputId": "8a48d11d-d960-492c-be04-c6feed1df606"
      },
      "execution_count": 4,
      "outputs": [
        {
          "output_type": "stream",
          "name": "stdout",
          "text": [
            "1\n",
            "\n",
            "2\n",
            "\n",
            "3\n",
            "\n"
          ]
        }
      ]
    },
    {
      "cell_type": "code",
      "source": [
        "# type(test)\n",
        "# test.shape\n",
        "\n",
        "# test1=np.array([[1,2,3],[4,5,6]])\n",
        "# test1.shape\n",
        "\n",
        "# test1.shape\n",
        "\n",
        "test2=np.array([[1,2,3],[4,5,6],[7,8,9]])\n",
        "print(\"Array shape:\",test2.shape)\n",
        "for i in test2:\n",
        "  print(i)"
      ],
      "metadata": {
        "colab": {
          "base_uri": "https://localhost:8080/"
        },
        "id": "AAejAZRx2K_3",
        "outputId": "b71badb8-9e15-4413-d849-624a567f385a"
      },
      "execution_count": 20,
      "outputs": [
        {
          "output_type": "stream",
          "name": "stdout",
          "text": [
            "Array shape: (3, 3)\n",
            "[1 2 3]\n",
            "[4 5 6]\n",
            "[7 8 9]\n"
          ]
        }
      ]
    },
    {
      "cell_type": "code",
      "source": [
        "test2=np.array ( [[1, 2, 3],[4, 5, 6],[7, 8, 9]])\n",
        "print(\"Array shape:\",test2.shape)\n",
        "for i in range(test2.shape[0]):\n",
        "  for j in range(test2.shape[1]):\n",
        "    print(test2[i][j],end=\" \")\n",
        "  print(\" \")"
      ],
      "metadata": {
        "colab": {
          "base_uri": "https://localhost:8080/"
        },
        "id": "P5LK5I_H7YCN",
        "outputId": "0a13d68a-b804-41b0-c599-81e331ba6cdc"
      },
      "execution_count": 34,
      "outputs": [
        {
          "output_type": "stream",
          "name": "stdout",
          "text": [
            "Array shape: (3, 3)\n",
            "1 2 3  \n",
            "4 5 6  \n",
            "7 8 9  \n"
          ]
        }
      ]
    },
    {
      "cell_type": "code",
      "source": [
        "test2=np.array ( [[[1, 2, 3],[4, 5, 6],[7, 8, 9]],\n",
        "               [[10,11,12],[13,14,15],[16,17,18]]])\n",
        "print(\"Array shape:\",test2.shape)\n",
        "for i in test2:\n",
        "  for j in i:\n",
        "    for k in j:\n",
        "      print(k,end=\" \")\n",
        "    print(\" \")\n",
        "  print(\" \")"
      ],
      "metadata": {
        "colab": {
          "base_uri": "https://localhost:8080/"
        },
        "collapsed": true,
        "id": "3qC-ssI7440x",
        "outputId": "033341f6-baae-43e5-c222-ba290e2065c9"
      },
      "execution_count": 36,
      "outputs": [
        {
          "output_type": "stream",
          "name": "stdout",
          "text": [
            "Array shape: (2, 3, 3)\n",
            "1 2 3  \n",
            "4 5 6  \n",
            "7 8 9  \n",
            " \n",
            "10 11 12  \n",
            "13 14 15  \n",
            "16 17 18  \n",
            " \n"
          ]
        }
      ]
    }
  ]
}