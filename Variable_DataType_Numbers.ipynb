{
  "nbformat": 4,
  "nbformat_minor": 0,
  "metadata": {
    "colab": {
      "provenance": [],
      "authorship_tag": "ABX9TyOGA7OD+AhFt8wS7KGSVFXm",
      "include_colab_link": true
    },
    "kernelspec": {
      "name": "python3",
      "display_name": "Python 3"
    },
    "language_info": {
      "name": "python"
    }
  },
  "cells": [
    {
      "cell_type": "markdown",
      "metadata": {
        "id": "view-in-github",
        "colab_type": "text"
      },
      "source": [
        "<a href=\"https://colab.research.google.com/github/ronita00/Python_Django/blob/main/Variable_DataType_Numbers.ipynb\" target=\"_parent\"><img src=\"https://colab.research.google.com/assets/colab-badge.svg\" alt=\"Open In Colab\"/></a>"
      ]
    },
    {
      "cell_type": "code",
      "execution_count": 3,
      "metadata": {
        "id": "zhSBND9KI2ki",
        "colab": {
          "base_uri": "https://localhost:8080/"
        },
        "outputId": "61ff5a27-6b1a-461a-a6de-964748d18802"
      },
      "outputs": [
        {
          "output_type": "stream",
          "name": "stdout",
          "text": [
            "MBSTU\n",
            "<class 'str'>\n"
          ]
        }
      ],
      "source": [
        "x=\"MBSTU\"\n",
        "print(x);\n",
        "print(type(x));"
      ]
    },
    {
      "cell_type": "code",
      "source": [
        "#Unpack a list:\n",
        "fruit=[\"mango\",\"litchy\",\"grapes\"]\n",
        "x,y,z=fruit\n",
        "print(x)\n",
        "print(y)\n",
        "print(z)\n",
        "print(x  +  y  +  z)"
      ],
      "metadata": {
        "colab": {
          "base_uri": "https://localhost:8080/"
        },
        "id": "XtxXP40SzAyG",
        "outputId": "58cedbc3-1602-4f01-f2a8-56451c8cb2b7"
      },
      "execution_count": 7,
      "outputs": [
        {
          "output_type": "stream",
          "name": "stdout",
          "text": [
            "mango\n",
            "litchy\n",
            "grapes\n",
            "mangolitchygrapes\n"
          ]
        }
      ]
    },
    {
      "cell_type": "code",
      "source": [
        "x = \"awesome\"\n",
        "\n",
        "def myfunc():\n",
        "  x = \"fantastic\"\n",
        "  print(\"Python is \" + x)\n",
        "\n",
        "myfunc()\n",
        "\n",
        "print(\"Python is \" + x)"
      ],
      "metadata": {
        "colab": {
          "base_uri": "https://localhost:8080/"
        },
        "id": "pSavyY_41xnA",
        "outputId": "c5d6d0ce-a96a-4a7d-dfe6-02984e11b87f"
      },
      "execution_count": 8,
      "outputs": [
        {
          "output_type": "stream",
          "name": "stdout",
          "text": [
            "Python is fantastic\n",
            "Python is awesome\n"
          ]
        }
      ]
    },
    {
      "cell_type": "code",
      "source": [
        "x = 5.25\n",
        "print(type(x))\n",
        "y=int(x)\n",
        "print(y)\n",
        "print(type(y))"
      ],
      "metadata": {
        "colab": {
          "base_uri": "https://localhost:8080/"
        },
        "id": "XuYbvppa2Pgu",
        "outputId": "0e72f55e-befe-4e90-abf6-9ddd1cba8721"
      },
      "execution_count": 10,
      "outputs": [
        {
          "output_type": "stream",
          "name": "stdout",
          "text": [
            "<class 'float'>\n",
            "5\n",
            "<class 'int'>\n"
          ]
        }
      ]
    },
    {
      "cell_type": "code",
      "source": [
        "x = \"36 july\"\n",
        "y = 787985668765.87711\n",
        "z = -3255522\n",
        "\n",
        "print(type(x))\n",
        "print(type(y))\n",
        "print(type(z))"
      ],
      "metadata": {
        "colab": {
          "base_uri": "https://localhost:8080/"
        },
        "id": "lMyU_sw-2dXr",
        "outputId": "c34a6484-d28a-43a0-b660-960774cc1e92"
      },
      "execution_count": 13,
      "outputs": [
        {
          "output_type": "stream",
          "name": "stdout",
          "text": [
            "<class 'str'>\n",
            "<class 'float'>\n",
            "<class 'int'>\n"
          ]
        }
      ]
    },
    {
      "cell_type": "code",
      "source": [
        "p= 35e3\n",
        "q = 12E4\n",
        "r = -87.7e100\n",
        "\n",
        "print(type(p))\n",
        "print(type(q))\n",
        "print(type(r))"
      ],
      "metadata": {
        "colab": {
          "base_uri": "https://localhost:8080/"
        },
        "id": "wDa4aXVs2xEM",
        "outputId": "8eb762a9-c289-41fc-a34d-9006658dca79"
      },
      "execution_count": 14,
      "outputs": [
        {
          "output_type": "stream",
          "name": "stdout",
          "text": [
            "<class 'float'>\n",
            "<class 'float'>\n",
            "<class 'float'>\n"
          ]
        }
      ]
    }
  ]
}