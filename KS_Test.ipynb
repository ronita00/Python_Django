{
  "nbformat": 4,
  "nbformat_minor": 0,
  "metadata": {
    "colab": {
      "provenance": [],
      "authorship_tag": "ABX9TyMg97tqkn8cfQfGO6kLDSQA",
      "include_colab_link": true
    },
    "kernelspec": {
      "name": "python3",
      "display_name": "Python 3"
    },
    "language_info": {
      "name": "python"
    }
  },
  "cells": [
    {
      "cell_type": "markdown",
      "metadata": {
        "id": "view-in-github",
        "colab_type": "text"
      },
      "source": [
        "<a href=\"https://colab.research.google.com/github/ronita00/Python_Django/blob/main/KS_Test.ipynb\" target=\"_parent\"><img src=\"https://colab.research.google.com/assets/colab-badge.svg\" alt=\"Open In Colab\"/></a>"
      ]
    },
    {
      "cell_type": "code",
      "execution_count": null,
      "metadata": {
        "colab": {
          "base_uri": "https://localhost:8080/"
        },
        "id": "-mOqS85GpJtG",
        "outputId": "b1691987-6b21-4f96-f19f-402c9ecd60fa"
      },
      "outputs": [
        {
          "output_type": "stream",
          "name": "stdout",
          "text": [
            "H_0: This data FITS with a normal distribution N(60.70967741935484,14.760744218787655)\n"
          ]
        }
      ],
      "source": [
        "import pandas as pd\n",
        "import numpy as np\n",
        "import statistics\n",
        "df = pd.DataFrame({\"SL\":[0,1,2,3,4,5,6,7,8,9,10,11,12,13,14,15,16,17,18,19,20,21,22,23,24,25,26,27,28,29, 30],\n",
        "       \"RN\":[67,63,33,69,53,51,49,78,77,83,47,53,51,49,78,77,83,47,67,63,33,69,53,51,49,78,77,83,47,53,51]})\n",
        "\n",
        "#df = pd.DataFrame({\"A\":[1,4,7], \"B\":[2,5,8], \"C\":[3,6,9]})\n",
        "\n",
        "#Step 1 — Order the Data\n",
        "df = df.sort_values(by = \"RN\") #ascending = True)\n",
        "\n",
        "# Step 2\n",
        "#Add a column 𝑓% (frequency) indicating how many times each number appears.\n",
        "df[\"Frecuency\"] = df['RN'].map(df['RN'].value_counts())\n",
        "df = df.drop_duplicates()\n",
        "# Step 3\n",
        "#Add Observed relative cumulative frequency column\n",
        "df_2 = df\n",
        "df_2[\"Count\"] = np.arange(1, len(df_2) + 1) #using numpy to generate count from 1 to the length of dataframe\n",
        "df_2[\"ORCF\"] = df_2[\"Count\"] / len(df) #Observed Relative Cumulative Frequency\n",
        "# Step 4\n",
        "#Add expected relative cumulative frequency column\n",
        "df_3 = df_2\n",
        "mu = df_3.loc[:, 'RN'].mean()\n",
        "sd = df_3['RN'].std()\n",
        "\n",
        "#Case 1: Calculated mean (mu) and standard deviation (sd)\n",
        "normal = statistics.NormalDist(mu, sd)\n",
        "\n",
        "#Case 2: deafult mean (mu) = 50, standard deviation (sd) = 10\n",
        "# comment above line and uncomment the three lines below and see what happens\n",
        "# mu = 50\n",
        "# sd = 10\n",
        "# normal = statistics.NormalDist(mu, sd)\n",
        "\n",
        "df_3[\"ERCF\"] = df_3[\"RN\"].apply(lambda x: normal.cdf(x)) #Expected Relative Cumulative Frequency\n",
        "\n",
        "# Step 5\n",
        "#Add difference column\n",
        "df_4 = df_3\n",
        "df_4[\"Difference\"] = abs(df_4[\"ORCF\"]-df_4[\"ERCF\"])\n",
        "# Step 6\n",
        "#Get the max of the difference\n",
        "df_5 = df_4\n",
        "Dn = max(df_5[\"Difference\"])\n",
        "# Step 7\n",
        "#Compare Critical Value (CV) of K-S vs Dn Value\n",
        "cv = 0.24\n",
        "if (Dn <= cv):\n",
        "    print(\"H_0: This data FITS with a normal distribution N(\"+str(mu)+\",\"+str(sd)+\")\")\n",
        "else:\n",
        "    print(\"H_1: This data DO NOT fits with a normal distribution N(\"+str(mu)+\",\"+str(sd)+\")\")\n",
        "# program  ends\n",
        "\n",
        "\n",
        "\n",
        "\n",
        "\n"
      ]
    },
    {
      "cell_type": "code",
      "source": [
        "import pandas as pd\n",
        "import numpy as np\n",
        "import statistics\n",
        "df = pd.DataFrame({\"SL\":[0,1,2,3,4,5,6,7,8,9,10,11,12,13,14,15,16,17,18,19,20,21,22,23,24,25,26,27,28,29, 30],\n",
        "       \"RN\":[67,63,33,69,53,51,49,78,77,83,47,53,51,49,78,77,83,47,67,63,33,69,53,51,49,78,77,83,47,53,51]})\n",
        "\n",
        "#step 1-order the data\n",
        "df=df.sort_values(by=\"RN\")\n",
        "\n",
        "#step 2-Add column f%(frequency)indicating how many time each number apperes\n",
        "\n",
        "df[\"Frecuency\"]=df['RN'].map(df['RN'].value_counts())\n",
        "df=df.drop_duplicates(['RN'])\n",
        "print(df)\n"
      ],
      "metadata": {
        "colab": {
          "base_uri": "https://localhost:8080/"
        },
        "id": "wqhTczGt0ThC",
        "outputId": "547decf7-5399-4fc9-befc-e32170cf14d4"
      },
      "execution_count": null,
      "outputs": [
        {
          "output_type": "stream",
          "name": "stdout",
          "text": [
            "    SL  RN  Frecuency\n",
            "20  20  33          2\n",
            "17  17  47          3\n",
            "13  13  49          3\n",
            "12  12  51          4\n",
            "11  11  53          4\n",
            "19  19  63          2\n",
            "0    0  67          2\n",
            "21  21  69          2\n",
            "8    8  77          3\n",
            "14  14  78          3\n",
            "16  16  83          3\n"
          ]
        }
      ]
    },
    {
      "cell_type": "code",
      "source": [
        "#step 3-Add observed relative cumulative frquency column\n",
        "df_2=df\n",
        "df_2[\"Count\"]=np.arange(1,len(df_2)+1) #using numpy to genarate count from 1 to the lenght of dataframe\n",
        "df_2[\"ORCF\"]=df_2[\"Count\"]/len(df) #observed cumilative frequency\n",
        "print(df_2)"
      ],
      "metadata": {
        "colab": {
          "base_uri": "https://localhost:8080/"
        },
        "collapsed": true,
        "id": "h5c8vqBk4XKc",
        "outputId": "a1805856-3781-43aa-90db-fca57f9f2865"
      },
      "execution_count": null,
      "outputs": [
        {
          "output_type": "stream",
          "name": "stdout",
          "text": [
            "    SL  RN  Frecuency  Count      ORCF\n",
            "20  20  33          2      1  0.090909\n",
            "17  17  47          3      2  0.181818\n",
            "13  13  49          3      3  0.272727\n",
            "12  12  51          4      4  0.363636\n",
            "11  11  53          4      5  0.454545\n",
            "19  19  63          2      6  0.545455\n",
            "0    0  67          2      7  0.636364\n",
            "21  21  69          2      8  0.727273\n",
            "8    8  77          3      9  0.818182\n",
            "14  14  78          3     10  0.909091\n",
            "16  16  83          3     11  1.000000\n"
          ]
        }
      ]
    },
    {
      "cell_type": "code",
      "source": [
        "#step 4- Add expected relative cumulative frequency column\n",
        "df_3=df_2\n",
        "mu=df_3['RN'].mean()\n",
        "sd=df_3['RN'].std()\n",
        "print(df_3)\n",
        "\n",
        "#case 1:Calculate mean(mu)and standard deviation (sd)\n",
        "\n",
        "normal=statistics.NormalDist(mu,sd)\n",
        "\n",
        "\n",
        "#case 2:defult mean(mu)=50),standard deviation (sd)=10\n",
        "# comment above line and uncomment the three lines below and see what happens\n",
        "# mu = 50\n",
        "# sd = 10\n",
        "# normal = statistics.NormalDist(mu, sd)\n",
        "\n",
        "df_3['ERCF']=df_3['RN'].apply(lambda x:normal.cdf(x)) #Expecter relative cumulative frequency"
      ],
      "metadata": {
        "colab": {
          "base_uri": "https://localhost:8080/",
          "height": 211
        },
        "collapsed": true,
        "id": "MIr5Mvy06jyO",
        "outputId": "2be0e537-7a00-4724-a4e0-4272e36fde9e"
      },
      "execution_count": null,
      "outputs": [
        {
          "output_type": "error",
          "ename": "NameError",
          "evalue": "name 'df_2' is not defined",
          "traceback": [
            "\u001b[0;31m---------------------------------------------------------------------------\u001b[0m",
            "\u001b[0;31mNameError\u001b[0m                                 Traceback (most recent call last)",
            "\u001b[0;32m<ipython-input-4-0677a7651012>\u001b[0m in \u001b[0;36m<cell line: 2>\u001b[0;34m()\u001b[0m\n\u001b[1;32m      1\u001b[0m \u001b[0;31m#step 4- Add expected relative cumulative frequency column\u001b[0m\u001b[0;34m\u001b[0m\u001b[0;34m\u001b[0m\u001b[0m\n\u001b[0;32m----> 2\u001b[0;31m \u001b[0mdf_3\u001b[0m\u001b[0;34m=\u001b[0m\u001b[0mdf_2\u001b[0m\u001b[0;34m\u001b[0m\u001b[0;34m\u001b[0m\u001b[0m\n\u001b[0m\u001b[1;32m      3\u001b[0m \u001b[0mmu\u001b[0m\u001b[0;34m=\u001b[0m\u001b[0mdf_3\u001b[0m\u001b[0;34m[\u001b[0m\u001b[0;34m'RN'\u001b[0m\u001b[0;34m]\u001b[0m\u001b[0;34m.\u001b[0m\u001b[0mmean\u001b[0m\u001b[0;34m(\u001b[0m\u001b[0;34m)\u001b[0m\u001b[0;34m\u001b[0m\u001b[0;34m\u001b[0m\u001b[0m\n\u001b[1;32m      4\u001b[0m \u001b[0msd\u001b[0m\u001b[0;34m=\u001b[0m\u001b[0mdf_3\u001b[0m\u001b[0;34m[\u001b[0m\u001b[0;34m'RN'\u001b[0m\u001b[0;34m]\u001b[0m\u001b[0;34m.\u001b[0m\u001b[0mstd\u001b[0m\u001b[0;34m(\u001b[0m\u001b[0;34m)\u001b[0m\u001b[0;34m\u001b[0m\u001b[0;34m\u001b[0m\u001b[0m\n\u001b[1;32m      5\u001b[0m \u001b[0mprint\u001b[0m\u001b[0;34m(\u001b[0m\u001b[0mdf_3\u001b[0m\u001b[0;34m)\u001b[0m\u001b[0;34m\u001b[0m\u001b[0;34m\u001b[0m\u001b[0m\n",
            "\u001b[0;31mNameError\u001b[0m: name 'df_2' is not defined"
          ]
        }
      ]
    },
    {
      "cell_type": "code",
      "source": [
        "#step 5- Add difference column\n",
        "df_4=df_3\n",
        "df_4[\"Difference\"]=abs(df_4[\"ORCF\"]-df_4[\"ERCF\"])\n",
        "\n",
        "#step 6-Get the amxixmum of the difference\n",
        "\n",
        "df_5=df_4\n",
        "Dn=max(df_5[\"Difference\"])\n",
        "print(df_5)\n",
        "\n",
        "\n"
      ],
      "metadata": {
        "colab": {
          "base_uri": "https://localhost:8080/"
        },
        "collapsed": true,
        "id": "cs_1Jj4q9NcU",
        "outputId": "881c4cdc-cdcd-47dd-94d6-4f1da9b19dee"
      },
      "execution_count": null,
      "outputs": [
        {
          "output_type": "stream",
          "name": "stdout",
          "text": [
            "    SL  RN  Frecuency  Count      ORCF      ERCF  Difference\n",
            "20  20  33          2      1  0.090909  0.036428    0.054481\n",
            "17  17  47          3      2  0.181818  0.185676    0.003858\n",
            "13  13  49          3      3  0.272727  0.222016    0.050711\n",
            "12  12  51          4      4  0.363636  0.262108    0.101529\n",
            "11  11  53          4      5  0.454545  0.305614    0.148931\n",
            "19  19  63          2      6  0.545455  0.553450    0.007996\n",
            "0    0  67          2      7  0.636364  0.652273    0.015910\n",
            "21  21  69          2      8  0.727273  0.698470    0.028803\n",
            "8    8  77          3      9  0.818182  0.849471    0.031290\n",
            "14  14  78          3     10  0.909091  0.863994    0.045097\n",
            "16  16  83          3     11  1.000000  0.922166    0.077834\n"
          ]
        }
      ]
    },
    {
      "cell_type": "code",
      "source": [
        "#sterp 7-Compare the critical value (CV) of KS vs Dn VALUE\n",
        "\n",
        "cv=0.24\n",
        "if(Dn<=cv):\n",
        "  print(\"H_0: This data FITS with a normal distribution N(\"+str(mu)+\",\"+str(sd)+\")\")\n",
        "else:\n",
        "  print(\"H_1: This data DO NOT FITS with a normal distribution N(\"+str(mu)+\",\"+str(sd)+\")\")\n"
      ],
      "metadata": {
        "colab": {
          "base_uri": "https://localhost:8080/"
        },
        "id": "d9zgWcXG_cf5",
        "outputId": "ab48d70f-4b8a-4a88-f78d-663b9b9eebd6"
      },
      "execution_count": null,
      "outputs": [
        {
          "output_type": "stream",
          "name": "stdout",
          "text": [
            "H_0: This data FITS with a normal distribution N(60.90909090909091,15.559270840592404)\n"
          ]
        }
      ]
    }
  ]
}